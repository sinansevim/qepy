{
 "cells": [
  {
   "cell_type": "code",
   "execution_count": 1,
   "id": "2662a9b5-14bb-4ab5-b532-12ded9f366f8",
   "metadata": {},
   "outputs": [],
   "source": [
    "from src import esma"
   ]
  },
  {
   "cell_type": "code",
   "execution_count": 2,
   "id": "a86be5e4-2722-4119-9def-37cc2e1802fc",
   "metadata": {
    "editable": true,
    "slideshow": {
     "slide_type": ""
    },
    "tags": []
   },
   "outputs": [],
   "source": [
    "model = esma.project(project_id='Fe')"
   ]
  },
  {
   "cell_type": "code",
   "execution_count": null,
   "id": "7fb21766-9266-4b47-ac03-b01beb339571",
   "metadata": {},
   "outputs": [],
   "source": []
  }
 ],
 "metadata": {
  "kernelspec": {
   "display_name": "Python 3 (ipykernel)",
   "language": "python",
   "name": "python3"
  },
  "language_info": {
   "codemirror_mode": {
    "name": "ipython",
    "version": 3
   },
   "file_extension": ".py",
   "mimetype": "text/x-python",
   "name": "python",
   "nbconvert_exporter": "python",
   "pygments_lexer": "ipython3",
   "version": "3.11.11"
  }
 },
 "nbformat": 4,
 "nbformat_minor": 5
}

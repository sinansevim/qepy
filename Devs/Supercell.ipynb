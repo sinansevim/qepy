{
 "cells": [
  {
   "cell_type": "code",
   "execution_count": 1,
   "metadata": {},
   "outputs": [],
   "source": [
    "from src import esma"
   ]
  },
  {
   "cell_type": "code",
   "execution_count": 2,
   "metadata": {},
   "outputs": [],
   "source": [
    "model = esma.project(project_id=\"supercell\")"
   ]
  },
  {
   "cell_type": "code",
   "execution_count": 3,
   "metadata": {},
   "outputs": [],
   "source": [
    "model.get_structure(path='./Structures/NbSe2-1L.poscar')"
   ]
  },
  {
   "cell_type": "code",
   "execution_count": 4,
   "metadata": {},
   "outputs": [],
   "source": [
    "model.supercell(scaling_matrix=[[4,2,0],[2,4,0],[0,0,1]],path='./Structures/NbSe2-1L.poscar')"
   ]
  },
  {
   "cell_type": "code",
   "execution_count": 8,
   "metadata": {},
   "outputs": [
    {
     "data": {
      "text/plain": [
       "[['10.423865162', '6.018221358', '0.0'],\n",
       " ['-2.000000165480742e-09', '12.036442716', '0.0'],\n",
       " ['0.0', '0.0', '13.41373919']]"
      ]
     },
     "execution_count": 8,
     "metadata": {},
     "output_type": "execute_result"
    }
   ],
   "source": [
    "model.cell()"
   ]
  },
  {
   "cell_type": "code",
   "execution_count": null,
   "metadata": {},
   "outputs": [],
   "source": []
  },
  {
   "cell_type": "code",
   "execution_count": 3,
   "metadata": {},
   "outputs": [
    {
     "data": {
      "text/plain": [
       "{'metadata': {},\n",
       " 'pw': {'control': {'pseudo_dir': './pseudos/NC'},\n",
       "  'system': {'degauss': '0.1', 'ecutwfc': '20', 'occupations': 'smearing'},\n",
       "  'electrons': {'conv_thr': '1e-6'},\n",
       "  'ions': {},\n",
       "  'cell': {},\n",
       "  'k_points': '1 1 1 0 0 0',\n",
       "  'hubbard': {'projection': 'atomic', 'terms': []}},\n",
       " 'dos': {'dos': {'emin': '-20.0', 'emax': '20.0'}},\n",
       " 'bands': {'bands': {'lsym': 'false'}},\n",
       " 'projwfc': {'projwfc': {}},\n",
       " 'ph': {'inputph': {'ldisp': 'true', 'nq1': '1', 'nq2': '1', 'nq3': '1'}},\n",
       " 'q2r': {'input': {'zasr': 'simple'}},\n",
       " 'matdyn': {'input': {'asr': 'simple',\n",
       "   'q_in_band_form': 'true',\n",
       "   'q_in_cryst_coord': 'true'}},\n",
       " 'pw2wannier90': {'inputpp': {'write_amn': 'true',\n",
       "   'write_mmn': 'true',\n",
       "   'write_unk': 'true',\n",
       "   'scdm_proj': 'true',\n",
       "   'scdm_entanglement': 'erfc',\n",
       "   'scdm_mu': '10',\n",
       "   'scdm_sigma': '4'}},\n",
       " 'wannier90': {'num_iter': '0',\n",
       "  'dis_num_iter': '0',\n",
       "  'num_print_cycles': '10',\n",
       "  'geninterp': 'true',\n",
       "  'auto_projections': 'true',\n",
       "  'write_hr': 'true',\n",
       "  'bands_plot': 'true',\n",
       "  'bands_num_points': '200'},\n",
       " 'hp': {'inputhp': {'conv_thr_chi': '1e-6',\n",
       "   'nq1': '2',\n",
       "   'nq2': '2',\n",
       "   'nq3': '2'}},\n",
       " 'd3hess': {'input': {'step': '1e-3'}}}"
      ]
     },
     "execution_count": 3,
     "metadata": {},
     "output_type": "execute_result"
    }
   ],
   "source": [
    "model.config"
   ]
  },
  {
   "cell_type": "code",
   "execution_count": 58,
   "metadata": {},
   "outputs": [
    {
     "ename": "FileNotFoundError",
     "evalue": "[Errno 2] No such file or directory: './Projects/supercell/results/supercell.poscar'",
     "output_type": "error",
     "traceback": [
      "\u001b[0;31m---------------------------------------------------------------------------\u001b[0m",
      "\u001b[0;31mFileNotFoundError\u001b[0m                         Traceback (most recent call last)",
      "Cell \u001b[0;32mIn[58], line 1\u001b[0m\n\u001b[0;32m----> 1\u001b[0m model\u001b[39m.\u001b[39;49mexport_structure(\u001b[39mformat\u001b[39;49m\u001b[39m=\u001b[39;49m\u001b[39m'\u001b[39;49m\u001b[39mposcar\u001b[39;49m\u001b[39m'\u001b[39;49m)\n",
      "File \u001b[0;32m/scratch/s.sevim/espresso-machine/src/esma/project.py:391\u001b[0m, in \u001b[0;36mproject.export_structure\u001b[0;34m(self, format, file_path, file_name, structure_name)\u001b[0m\n\u001b[1;32m    389\u001b[0m     file_name\u001b[39m=\u001b[39mstructure_name\n\u001b[1;32m    390\u001b[0m \u001b[39mif\u001b[39;00m \u001b[39mformat\u001b[39m\u001b[39m.\u001b[39mlower()\u001b[39m==\u001b[39m\u001b[39m'\u001b[39m\u001b[39mposcar\u001b[39m\u001b[39m'\u001b[39m:\n\u001b[0;32m--> 391\u001b[0m     export\u001b[39m.\u001b[39;49mexportPoscar(structure_name\u001b[39m=\u001b[39;49mstructure_name,atom\u001b[39m=\u001b[39;49matom,cell\u001b[39m=\u001b[39;49mcell,file_name\u001b[39m=\u001b[39;49mfile_name,file_path\u001b[39m=\u001b[39;49mfile_path)\n",
      "File \u001b[0;32m/scratch/s.sevim/espresso-machine/src/esma/export.py:13\u001b[0m, in \u001b[0;36mexportPoscar\u001b[0;34m(structure_name, atom, cell, file_name, file_path)\u001b[0m\n\u001b[1;32m     11\u001b[0m     \u001b[39melse\u001b[39;00m:\n\u001b[1;32m     12\u001b[0m         atom_type[i]\u001b[39m=\u001b[39m\u001b[39m1\u001b[39m\n\u001b[0;32m---> 13\u001b[0m \u001b[39mwith\u001b[39;00m \u001b[39mopen\u001b[39;49m(full_path, \u001b[39m\"\u001b[39;49m\u001b[39mw\u001b[39;49m\u001b[39m\"\u001b[39;49m) \u001b[39mas\u001b[39;00m file_object:\n\u001b[1;32m     14\u001b[0m     file_object\u001b[39m.\u001b[39mwrite(\u001b[39mf\u001b[39m\u001b[39m\"\u001b[39m\u001b[39m{\u001b[39;00mstructure_name\u001b[39m}\u001b[39;00m\u001b[39m \u001b[39m\u001b[39m\\n\u001b[39;00m\u001b[39m\"\u001b[39m)\n\u001b[1;32m     15\u001b[0m     file_object\u001b[39m.\u001b[39mwrite(\u001b[39m\"\u001b[39m\u001b[39m1.0 \u001b[39m\u001b[39m\\n\u001b[39;00m\u001b[39m\"\u001b[39m)\n",
      "\u001b[0;31mFileNotFoundError\u001b[0m: [Errno 2] No such file or directory: './Projects/supercell/results/supercell.poscar'"
     ]
    }
   ],
   "source": [
    "model.export_structure(format='poscar')"
   ]
  },
  {
   "cell_type": "code",
   "execution_count": 3,
   "metadata": {},
   "outputs": [],
   "source": [
    "model.get_structure(path='./Structures/NbSe2-1L.poscar')"
   ]
  },
  {
   "cell_type": "code",
   "execution_count": 33,
   "metadata": {},
   "outputs": [
    {
     "data": {
      "text/plain": [
       "[['Nb', '0.000000000000', '0.000000000000', '0.500000000000'],\n",
       " ['Se', '0.333333000000', '0.666667000000', '0.374514989500'],\n",
       " ['Se', '0.333333000000', '0.666667000000', '0.625485010500']]"
      ]
     },
     "execution_count": 33,
     "metadata": {},
     "output_type": "execute_result"
    }
   ],
   "source": [
    "model.atoms()"
   ]
  },
  {
   "cell_type": "code",
   "execution_count": 30,
   "metadata": {},
   "outputs": [],
   "source": [
    "from ase.build import make_supercell\n",
    "from ase.io import read\n",
    "\n",
    "# Read a structure file\n",
    "atoms = read(filename='Projects/NbSe2/results/vc-relax.out')\n",
    "\n",
    "# Create a supercell with a scaling matrix\n",
    "scaling_matrix = [[4,2, 0], [2, 4, 0], [0, 0, 1]]\n",
    "supercell = make_supercell(atoms, scaling_matrix,tol=1e-8)"
   ]
  },
  {
   "cell_type": "code",
   "execution_count": 31,
   "metadata": {},
   "outputs": [
    {
     "data": {
      "text/plain": [
       "Atoms(symbols='NbSe2', pbc=True, cell=[[3.474621721, -0.0, 0.0], [-1.737310861, 3.009110679, 0.0], [0.0, 0.0, 13.41373919]], calculator=SinglePointDFTCalculator(...))"
      ]
     },
     "execution_count": 31,
     "metadata": {},
     "output_type": "execute_result"
    }
   ],
   "source": [
    "atoms"
   ]
  },
  {
   "cell_type": "code",
   "execution_count": null,
   "metadata": {},
   "outputs": [],
   "source": []
  },
  {
   "cell_type": "code",
   "execution_count": 17,
   "metadata": {},
   "outputs": [
    {
     "data": {
      "text/plain": [
       "Atoms(symbols='Fe2', pbc=True, cell=[2.8630354989, 2.8630354989, 2.8630354989], initial_magmoms=...)"
      ]
     },
     "execution_count": 17,
     "metadata": {},
     "output_type": "execute_result"
    }
   ],
   "source": [
    "atoms"
   ]
  },
  {
   "cell_type": "code",
   "execution_count": 10,
   "metadata": {},
   "outputs": [],
   "source": [
    "atoms = []\n",
    "for i, symbol in enumerate(supercell.symbols):\n",
    "    fractional_coords = supercell.get_scaled_positions()[i]\n",
    "    atoms.append([symbol]+fractional_coords.astype(str).tolist())\n",
    "    # print(f\"Atom {symbol}: {fractional_coords}\") "
   ]
  },
  {
   "cell_type": "code",
   "execution_count": 11,
   "metadata": {},
   "outputs": [
    {
     "data": {
      "text/plain": [
       "[['10.423865162', '6.018221358', '0.0'],\n",
       " ['-2.000000165480742e-09', '12.036442716', '0.0'],\n",
       " ['0.0', '0.0', '13.41373919']]"
      ]
     },
     "execution_count": 11,
     "metadata": {},
     "output_type": "execute_result"
    }
   ],
   "source": [
    "supercell.get_cell()[:].astype(str).tolist()"
   ]
  },
  {
   "cell_type": "code",
   "execution_count": 12,
   "metadata": {},
   "outputs": [
    {
     "data": {
      "text/plain": [
       "[['Nb', '0.0', '0.0', '0.5'],\n",
       " ['Se', '0.9999998333333334', '0.1666668333333332', '0.3745149895000001'],\n",
       " ['Se', '0.9999998333333334', '0.1666668333333332', '0.6254850105'],\n",
       " ['Nb', '0.1666666666666667', '0.16666666666666663', '0.5'],\n",
       " ['Se', '0.16666650000000005', '0.3333335', '0.3745149895000001'],\n",
       " ['Se', '0.16666650000000005', '0.3333335', '0.6254850105'],\n",
       " ['Nb', '0.0', '0.5', '0.5'],\n",
       " ['Se', '0.9999998333333334', '0.6666668333333331', '0.3745149895000001'],\n",
       " ['Se', '0.9999998333333334', '0.6666668333333331', '0.6254850105'],\n",
       " ['Nb', '0.5', '0.9999999999999999', '0.5'],\n",
       " ['Se', '0.4999998333333334', '0.1666668333333333', '0.3745149895000001'],\n",
       " ['Se', '0.4999998333333334', '0.1666668333333333', '0.6254850105'],\n",
       " ['Nb', '0.3333333333333334', '0.33333333333333326', '0.5'],\n",
       " ['Se', '0.33333316666666674', '0.5000001666666666', '0.3745149895000001'],\n",
       " ['Se', '0.33333316666666674', '0.5000001666666666', '0.6254850105'],\n",
       " ['Nb', '0.1666666666666667', '0.6666666666666665', '0.5'],\n",
       " ['Se', '0.16666650000000005', '0.8333335', '0.3745149895000001'],\n",
       " ['Se', '0.16666650000000005', '0.8333335', '0.6254850105'],\n",
       " ['Nb', '0.6666666666666669', '0.16666666666666655', '0.5'],\n",
       " ['Se', '0.6666665000000002', '0.33333349999999984', '0.3745149895000001'],\n",
       " ['Se', '0.6666665000000002', '0.33333349999999984', '0.6254850105'],\n",
       " ['Nb', '0.5', '0.49999999999999994', '0.5'],\n",
       " ['Se', '0.4999998333333334', '0.6666668333333331', '0.3745149895000001'],\n",
       " ['Se', '0.4999998333333334', '0.6666668333333331', '0.6254850105'],\n",
       " ['Nb', '0.3333333333333334', '0.8333333333333334', '0.5'],\n",
       " ['Se', '0.33333316666666674', '1.6666666663025022e-07', '0.3745149895000001'],\n",
       " ['Se', '0.33333316666666674', '1.6666666663025022e-07', '0.6254850105'],\n",
       " ['Nb', '0.8333333333333333', '0.3333333333333331', '0.5'],\n",
       " ['Se', '0.8333331666666666', '0.5000001666666666', '0.3745149895000001'],\n",
       " ['Se', '0.8333331666666666', '0.5000001666666666', '0.6254850105'],\n",
       " ['Nb', '0.6666666666666669', '0.6666666666666665', '0.5'],\n",
       " ['Se', '0.6666665000000002', '0.8333335', '0.3745149895000001'],\n",
       " ['Se', '0.6666665000000002', '0.8333335', '0.6254850105'],\n",
       " ['Nb', '0.8333333333333333', '0.833333333333333', '0.5'],\n",
       " ['Se', '0.8333331666666666', '1.666666663719825e-07', '0.3745149895000001'],\n",
       " ['Se', '0.8333331666666666', '1.666666663719825e-07', '0.6254850105']]"
      ]
     },
     "execution_count": 12,
     "metadata": {},
     "output_type": "execute_result"
    }
   ],
   "source": [
    "atoms"
   ]
  },
  {
   "cell_type": "code",
   "execution_count": null,
   "metadata": {},
   "outputs": [],
   "source": []
  }
 ],
 "metadata": {
  "kernelspec": {
   "display_name": ".venv",
   "language": "python",
   "name": "python3"
  },
  "language_info": {
   "codemirror_mode": {
    "name": "ipython",
    "version": 3
   },
   "file_extension": ".py",
   "mimetype": "text/x-python",
   "name": "python",
   "nbconvert_exporter": "python",
   "pygments_lexer": "ipython3",
   "version": "3.12.4"
  },
  "orig_nbformat": 4
 },
 "nbformat": 4,
 "nbformat_minor": 2
}
